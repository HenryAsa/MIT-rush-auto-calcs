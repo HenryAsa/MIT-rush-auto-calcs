{
 "cells": [
  {
   "cell_type": "markdown",
   "metadata": {},
   "source": [
    "# Race Studio 3 Data Processing\n",
    "\n",
    "<div class=\"alert alert-block alert-success\">\n",
    "<b>TLDR:</b> Scroll to the <a href=\"#work-with-data\" title=\"Work With Data\">Work With Data</a> section at the bottom of this notebook to begin working with the RaceStudio3 data.  Everything above is related to configuration and data processing.\n",
    "</div>"
   ]
  },
  {
   "cell_type": "markdown",
   "metadata": {},
   "source": [
    "# Initial Configuration\n",
    "\n",
    "Run this module before running anything else."
   ]
  },
  {
   "cell_type": "markdown",
   "metadata": {},
   "source": [
    "## Install Necessary Python Packages"
   ]
  },
  {
   "cell_type": "code",
   "execution_count": null,
   "metadata": {
    "vscode": {
     "languageId": "shellscript"
    }
   },
   "outputs": [],
   "source": [
    "pip install -r requirements.txt"
   ]
  },
  {
   "cell_type": "markdown",
   "metadata": {},
   "source": [
    "## Initialize Python Packages"
   ]
  },
  {
   "cell_type": "code",
   "execution_count": null,
   "metadata": {},
   "outputs": [],
   "source": [
    "import pint\n",
    "import pandas as pd\n",
    "import pint_pandas\n",
    "import numpy as np\n",
    "import matplotlib.pyplot as plt\n",
    "import math\n",
    "import os\n",
    "import scipy.io\n",
    "from typing import Iterable, Optional\n",
    "import cartopy.crs as ccrs\n",
    "import cartopy.io.img_tiles as cimgt\n",
    "\n",
    "\n",
    "from race_analysis.constants import *\n",
    "\n",
    "\n",
    "from race_analysis.units import u, Q_\n",
    "pint_pandas.PintType.ureg = u\n",
    "pint_pandas.PintType.ureg.setup_matplotlib()"
   ]
  },
  {
   "cell_type": "markdown",
   "metadata": {},
   "source": [
    "# Utility Functions"
   ]
  },
  {
   "cell_type": "markdown",
   "metadata": {},
   "source": [
    "## Data Manipulation and Exporting Functions\n",
    "\n",
    "Useful functions that handle exporting data to `.csv` files, converting series to their base-unit values, and more."
   ]
  },
  {
   "cell_type": "code",
   "execution_count": null,
   "metadata": {},
   "outputs": [],
   "source": [
    "from race_analysis.df_utils import convert_series_to_magnitude, magnitude_of_df_columns, slice_into_df, strip_df_of_units"
   ]
  },
  {
   "cell_type": "markdown",
   "metadata": {},
   "source": [
    "## Data Exporting Functions\n",
    "Useful helper functions for exporting data."
   ]
  },
  {
   "cell_type": "code",
   "execution_count": null,
   "metadata": {},
   "outputs": [],
   "source": [
    "from race_analysis.export_data import export_data_to_csv, mat_to_csv, mats_to_csv\n",
    "from race_analysis.utils import get_files_with_extension, get_data_files, get_filename"
   ]
  },
  {
   "cell_type": "markdown",
   "metadata": {},
   "source": [
    "## Plotting Functions\n",
    "\n",
    "Helper functions to simplify the data-plotting process."
   ]
  },
  {
   "cell_type": "code",
   "execution_count": null,
   "metadata": {},
   "outputs": [],
   "source": [
    "from race_analysis.plot_data import plot_race_data, plot_data, save_plot, save_or_show_plot"
   ]
  },
  {
   "cell_type": "markdown",
   "metadata": {},
   "source": [
    "# Initialize Race Data from Spreadsheet\n",
    "\n",
    "This code takes formatted race data from a `.csv` file and parses it into [`Pandas Dataframes`](https://pandas.pydata.org/docs/reference/api/pandas.DataFrame.html), [`Pint`](https://pint.readthedocs.io/en/stable/) Unit objects, and [`Pint Pandas`](https://pint.readthedocs.io/en/0.18/pint-pandas.html) dataframe extension so that computations can be easily performed on the data."
   ]
  },
  {
   "cell_type": "markdown",
   "metadata": {},
   "source": [
    "## Compute Laps\n",
    "\n",
    "Since the data exported from RaceStudio3 does not include the lap number or lap-related parameters, the below codeblock uses ML to determine the probable location of the start of the lap (based on the `GPS Latitude` and `GPS Longitude` values and their repetitiveness).  It then initializes a bunch of Lap-specific parameters that would be useful for the analysis."
   ]
  },
  {
   "cell_type": "code",
   "execution_count": null,
   "metadata": {},
   "outputs": [],
   "source": [
    "from race_analysis.laps_data import find_laps, get_lap_indices\n",
    "\n",
    "#####################################################################\n",
    "#### USE THIS FUNCTION TO UPDATE THE DATA FILES WITH LAP NUMBERS ####\n",
    "#####################################################################\n",
    "# # # from race_analysis.laps_data import set_lap_num_in_data_csv\n",
    "# # # set_lap_num_in_data_csv()"
   ]
  },
  {
   "cell_type": "markdown",
   "metadata": {},
   "source": [
    "## Set Custom Columns\n",
    "\n",
    "This is where custom columns and math channels are defined.  The master `RACE_DATA_DF` dataframe includes all race data, including columns for these newly defined channels."
   ]
  },
  {
   "cell_type": "code",
   "execution_count": null,
   "metadata": {},
   "outputs": [],
   "source": [
    "from race_analysis.columns import set_delta"
   ]
  },
  {
   "cell_type": "markdown",
   "metadata": {},
   "source": [
    "## Build RaceStudio3 Dataframe\n",
    "\n",
    "This is the code that initializes the data structure to be used throughout this Jupyter Notebook."
   ]
  },
  {
   "cell_type": "code",
   "execution_count": null,
   "metadata": {},
   "outputs": [],
   "source": [
    "from race_analysis.race import generate_units_dict, load_race"
   ]
  },
  {
   "cell_type": "markdown",
   "metadata": {},
   "source": [
    "## Retrieve Commonly Used Column Names"
   ]
  },
  {
   "cell_type": "code",
   "execution_count": null,
   "metadata": {},
   "outputs": [],
   "source": [
    "from race_analysis.column_names import COL_TIME"
   ]
  },
  {
   "cell_type": "markdown",
   "metadata": {},
   "source": [
    "# Work with Data"
   ]
  },
  {
   "cell_type": "markdown",
   "metadata": {},
   "source": [
    "## Define Vehicle Constants\n",
    "\n",
    "These are the constants and values associated with the car, as well as where said values were sourced."
   ]
  },
  {
   "cell_type": "code",
   "execution_count": null,
   "metadata": {},
   "outputs": [],
   "source": [
    "from race_analysis.constants import *\n",
    "\n",
    "#### MOTOR SPECIFICATIONS ####\n",
    "electric_motor_mass = 22 * u.kg             # https://www.electricmotorsport.com/me1616-brushless-65hp-liquid-cooled-ipm-motor-24-120v.html\n",
    "\"\"\"Mass of the ME1616 electric motor\"\"\"\n",
    "\n",
    "electric_power_continuous = 20 * u.kW       # https://www.electricmotorsport.com/me1616-brushless-65hp-liquid-cooled-ipm-motor-24-120v.html\n",
    "\"\"\"Continuous power for the ME1616 electric motor\"\"\"\n",
    "electric_power_peak = 55 * u.kW             # https://www.electricmotorsport.com/me1616-brushless-65hp-liquid-cooled-ipm-motor-24-120v.html\n",
    "\"\"\"Peak power for the ME1616 electric motor\"\"\"\n",
    "\n",
    "electric_stall_torque = 134 * u.N * u.m     # https://www.electricmotorsport.com/me1616-brushless-65hp-liquid-cooled-ipm-motor-24-120v.html\n",
    "\"\"\"Stall torque for the ME1616 electric motor\"\"\"\n",
    "electric_continuous_torque = 55 * u.N * u.m # https://www.miromax.lt/userfiles/6/files/ME%20MAX%201507_1616%20%20AIR_Water%20Cooled%2020kW_55kW_96V_.pdf\n",
    "\"\"\"Continuous torque for the ME1616 electric motor at 250 Amps\"\"\"\n",
    "##############################\n",
    "\n",
    "#### BASIC CALCULATIONS ####\n",
    "torque_gas = (POWER_GAS_AT_WHEELS / PEAK_GAS_RPM).to(u.N * u.m)\n",
    "\"\"\"Torque of the gas-powered vehicle\"\"\"\n",
    "TMR_gas = torque_gas / MASS_CAR\n",
    "\"\"\"Torque-Mass ratio of the gas-powered vehicle\"\"\"\n",
    "PMR_gas = POWER_GAS_AT_WHEELS / MASS_CAR\n",
    "\"\"\"Power-Mass ratio of the gas-powered vehicle\"\"\"\n",
    "############################\n",
    "\n",
    "print(f'PEAK GAS ANGULAR SPEED\\t{PEAK_GAS_RPM.to_base_units()}')\n",
    "print(f'GAS POWER IN WATTS    \\t{POWER_GAS_AT_WHEELS.to(u.W)}')\n",
    "print(f'TORQUE OF GAS MOTOR   \\t{torque_gas}')\n",
    "print(f'TORQUE-MASS RATIO (GAS)\\t{TMR_gas}')\n",
    "print(f'POWER-MASS RATIO (GAS)\\t{PMR_gas.to(u.kW / u.kg)}')\n",
    "\n",
    "avg_power = (.5 * electric_power_continuous + .5 * electric_power_peak)\n",
    "on_elec_per_lap = 30 * u.sec\n",
    "num_laps = 25\n",
    "\n",
    "total_energy = avg_power*on_elec_per_lap*num_laps\n",
    "print(f'TOTAL ENERGY\\t\\t{total_energy.to(u.kWh)}')\n",
    "print(f'AVERAGE POWER\\t\\t{avg_power}')\n",
    "operating_voltage = 96 * u.V\n",
    "print(f'OPERATING AMPERAGE\\t{(avg_power/operating_voltage).to(u.amp)}')\n",
    "print(f'TOTAL AMP HOURS\\t\\t{(total_energy / operating_voltage).to(u.amp * u.hr)}')\n",
    "\n",
    "print(f'EV ENERGY PER LAP\\t{(total_energy / num_laps).to(u.kWh)}')\n",
    "\n",
    "battery_mass_density = 55 * u.Wh / u.lb\n",
    "\n",
    "print(f'BATTERY MASS\\t\\t{(total_energy / battery_mass_density).to_base_units()}')\n"
   ]
  },
  {
   "cell_type": "markdown",
   "metadata": {},
   "source": [
    "## Load in Data\n",
    "\n",
    "Define the filepath of the data file you are trying to load in, as well as the corresponding `units` dictionary containing that dataset's units values.\n",
    "\n",
    "> The `units` dictionary is helpful, but not critical due to Pint's builtin unit-handling capabilities.  This is a remnant of an older implementation of some functionality that @HenryAsa hasn't yet removed."
   ]
  },
  {
   "cell_type": "code",
   "execution_count": null,
   "metadata": {},
   "outputs": [],
   "source": [
    "RACE_DATA_FILEPATH = f'{DATA_DIRECTORY}/BETTER_20230831_143833_Blair Hosie_Rush SR 150_Palmer ACW_a_0045.csv'\n",
    "UNITS: dict[str, str] = {}\n",
    "\n",
    "RACE_DATA_DF = load_race(race_data_filepath=RACE_DATA_FILEPATH, units=UNITS)\n",
    "\"\"\"All Race Data stored in a Pandas Dataframe with Pint Units built-in to handle unit conversions and unit operations\"\"\""
   ]
  },
  {
   "cell_type": "markdown",
   "metadata": {},
   "source": [
    "## Generate Plots for Data"
   ]
  },
  {
   "cell_type": "code",
   "execution_count": null,
   "metadata": {},
   "outputs": [],
   "source": [
    "# speed_during_coast = pd.Series(RACE_DATA_DF['GPS Speed'] * RACE_DATA_DF['GPS CST On'], name='Speed During Coasting')\n",
    "# plot_data(RACE_DATA_DF['Time'], f'Time ({UNITS[\"Time\"]})', speed_during_coast.pint.to('miles/hr'), 'Vehicle Speed During Coasting (miles/hr)')\n",
    "\n",
    "# acceleration_during_coast = pd.Series(RACE_DATA_DF['GPS Speed'].diff().fillna(0) * RACE_DATA_DF['GPS CST On'] / RACE_DATA_DF['dT'].replace(0, np.nan), name='Acceleration During Coasting')\n",
    "# plot_data(RACE_DATA_DF['Time'], f'Time ({UNITS[\"Time\"]})', acceleration_during_coast.pint.to('m/(s^2)'), 'Acceleration During Coasting (m/(s^2))')"
   ]
  },
  {
   "cell_type": "markdown",
   "metadata": {},
   "source": [
    "## Determine Drag Coefficient of the Vehicle\n",
    "\n",
    "$$F_D = \\frac{1}{2}\\rho v^2 C_D A$$\n",
    "where $F_D$ is the drag force, $\\rho$ is the density of the fluid (air), $v$ is the speed of the vehicle relative to the fluid, $C_D$ is the drag coefficient, and $A$ is the cross-sectional area of the vehicle.\n",
    "\n",
    "Rearranged, the coefficient of drag can be determined by:\n",
    "\n",
    "$$C_D = \\frac{2 F_D}{\\rho v^2 A}$$"
   ]
  },
  {
   "cell_type": "code",
   "execution_count": null,
   "metadata": {},
   "outputs": [],
   "source": [
    "from race_analysis.df_utils import columns_during_state\n",
    "\n",
    "def plot_coefficient_of_drag(df: pd.DataFrame, units: dict[str, str]) -> None:\n",
    "\n",
    "    #### Drag Calculations ####\n",
    "    speed_during_coast = columns_during_state(\n",
    "        df=RACE_DATA_DF,\n",
    "        data_columns='GPS Speed',\n",
    "        state_columns='GPS CST On',\n",
    "        append_to_column_name='During Coasting',\n",
    "        fill_with_zeros=True,\n",
    "    )\n",
    "    acceleration_during_coast = columns_during_state(\n",
    "        df=RACE_DATA_DF,\n",
    "        data_columns='Acceleration',\n",
    "        state_columns='GPS CST On',\n",
    "        append_to_column_name='During Coasting',\n",
    "        fill_with_zeros=True,\n",
    "    )\n",
    "\n",
    "    drag_force = pd.Series(data=acceleration_during_coast * MASS_VEHICLE, name='Drag Force')\n",
    "    drag_coefficient = pd.Series(data=((2*drag_force) / (RHO_AIR * (speed_during_coast**2) * VEHICLE_CROSS_SECTIONAL_AREA)), name='Coefficient of Drag')\n",
    "    ###########################\n",
    "\n",
    "    start_lap_num = 2\n",
    "    end_lap_num = int((df['Lap Number'].iloc[-1] - 1).magnitude)\n",
    "\n",
    "    legend_values = []\n",
    "    lap_indices = get_lap_indices(df, start_lap_num, end_lap_num)\n",
    "\n",
    "    for lap_num in range(start_lap_num, end_lap_num+1):\n",
    "        start_lap_index, end_lap_index = lap_indices[lap_num]\n",
    "\n",
    "        valid_lap_times = slice_into_df(df['Time'], start_lap_index, end_lap_index)\n",
    "        valid_drag_coefficients = slice_into_df(drag_coefficient, start_lap_index, end_lap_index)\n",
    "\n",
    "        legend_values.append(f'Lap {lap_num}')\n",
    "        plt.title(f'Coefficient of Drag')\n",
    "        plot_data(valid_lap_times, f'Time ({units[\"Time\"]})', valid_drag_coefficients.pint.to_base_units(), f'Coefficient of Drag ({valid_drag_coefficients.pint.to_base_units().pint.units})')\n",
    "        plt.legend(legend_values)\n",
    "        # plt.show()\n",
    "\n",
    "plot_coefficient_of_drag(df=RACE_DATA_DF, units=UNITS)"
   ]
  },
  {
   "cell_type": "markdown",
   "metadata": {},
   "source": [
    "# Plotting"
   ]
  },
  {
   "cell_type": "code",
   "execution_count": null,
   "metadata": {},
   "outputs": [],
   "source": [
    "start_lap_num = 2\n",
    "end_lap_num = (RACE_DATA_DF['Lap Number'].iloc[-1] - 1).magnitude\n",
    "\n",
    "# export_data_to_csv(RACE_DATA_DF['Time'], RACE_DATA_DF['Acceleration'], 'logs/accel_actually_og.csv')\n",
    "\n",
    "cumulative_ke_change = pd.Series(data=RACE_DATA_DF.groupby('Lap Number')['Delta KE'].apply(lambda x: x.cumsum()))\n",
    "\n",
    "cumulative_ke_change_during_coast = pd.Series(data=(\n",
    "    RACE_DATA_DF.groupby('Lap Number')[['Lap Number', 'Delta KE', 'GPS CST On']].apply(\n",
    "        lambda x: (x['Delta KE'] * x['GPS CST On']).cumsum())))\n",
    "\n",
    "abs_cumulative_ke_change_during_coast = pd.Series(data=(\n",
    "    RACE_DATA_DF.groupby('Lap Number')[['Lap Number', 'Delta KE', 'GPS CST On']].apply(\n",
    "        lambda x: (abs(x['Delta KE']) * x['GPS CST On']).cumsum())))\n",
    "\n",
    "# cumulative_ke_change_during_coast = pd.Series(data=(RACE_DATA_DF * RACE_DATA_DF['GPS CST On']).groupby('Lap Number')['Delta KE'].apply(lambda x: x.cumsum()))\n",
    "# cumulative_ke_change_during_coast = pd.Series(data=strip_df_of_units(RACE_DATA_DF.groupby('Lap Number')['Delta KE']).cumsum(), dtype=f'pint[{UNITS[\"Delta KE\"]}]')\n",
    "\n",
    "plt.title(f'Cumulative Change in Kinetic Energy by Lap')\n",
    "plot_data(RACE_DATA_DF[COL_TIME], f'Time ({UNITS[COL_TIME]})', abs_cumulative_ke_change_during_coast.pint.to_base_units(), f'Cumulative Change in Kinetic Energy ({abs_cumulative_ke_change_during_coast.pint.to_base_units().pint.units})')\n",
    "\n",
    "lap_indices = get_lap_indices(RACE_DATA_DF, start_lap_num, end_lap_num)\n",
    "\n",
    "for lap_num in range(int(start_lap_num), int(end_lap_num)+1):\n",
    "    start_lap_index, end_lap_index = lap_indices[lap_num]\n",
    "    # end_lap_indices = lap_indices[lap_num]\n",
    "\n",
    "    valid_lap_times = slice_into_df(RACE_DATA_DF[COL_TIME], start_lap_index, end_lap_index)\n",
    "    lap_cum_KE = slice_into_df(abs_cumulative_ke_change_during_coast, start_lap_index, end_lap_index)\n",
    "\n",
    "    plt.title(f'Cumulative Change in Kinetic Energy for Lap {lap_num}')\n",
    "    plot_data(valid_lap_times, f'Time ({UNITS[COL_TIME]})', lap_cum_KE.pint.to_base_units(), f'Cumulative Change in Kinetic Energy ({lap_cum_KE.pint.to_base_units().pint.units})')"
   ]
  },
  {
   "cell_type": "markdown",
   "metadata": {},
   "source": [
    "## Regenerative Braking Calculations"
   ]
  },
  {
   "cell_type": "code",
   "execution_count": null,
   "metadata": {},
   "outputs": [],
   "source": [
    "# from race_analysis.column_names import COL_BRAKING_ON\n",
    "# from race_analysis.laps_data import reset_lap_times\n",
    "# from race_analysis.utils import get_files_with_extension\n",
    "\n",
    "\n",
    "# def regen_calculations(df: pd.DataFrame, data_filepath: str) -> None:\n",
    "#     start_lap_num = 2\n",
    "#     end_lap_num = int((df['Lap Number'].iloc[-1] - 1).magnitude)\n",
    "\n",
    "#     print(start_lap_num, end_lap_num)\n",
    "\n",
    "#     # export_data_to_csv(df['Time'], df['Acceleration'], 'logs/accel_actually_og.csv')\n",
    "\n",
    "#     cumulative_ke_change = pd.Series(data=df.groupby('Lap Number')['Delta KE'].apply(lambda x: x.cumsum()))\n",
    "\n",
    "#     cumulative_ke_change_during_coast = pd.Series(data=(\n",
    "#         df.groupby('Lap Number')[['Lap Number', 'Delta KE', COL_BRAKING_ON]].apply(\n",
    "#             lambda x: (x['Delta KE'] * x[COL_BRAKING_ON]).cumsum())))\n",
    "\n",
    "#     abs_cumulative_ke_change_during_coast = pd.Series(data=(\n",
    "#         df.groupby('Lap Number')[['Lap Number', 'Delta KE', 'GPS CST On']].apply(\n",
    "#             lambda x: (abs(x['Delta KE']) * x['GPS CST On']).cumsum())))\n",
    "\n",
    "#     # cumulative_ke_change_during_coast = pd.Series(data=(df * df['GPS CST On']).groupby('Lap Number')['Delta KE'].apply(lambda x: x.cumsum()))\n",
    "#     # cumulative_ke_change_during_coast = pd.Series(data=strip_df_of_units(df.groupby('Lap Number')['Delta KE']).cumsum(), dtype=f'pint[{UNITS[\"Delta KE\"]}]')\n",
    "\n",
    "#     # plt.title(f'Cumulative Change in Kinetic Energy by Lap')\n",
    "#     # plot_data(df[COL_TIME], f'Time ({UNITS[COL_TIME]})', abs_cumulative_ke_change_during_coast.pint.to_base_units(), f'Cumulative Change in Kinetic Energy ({abs_cumulative_ke_change_during_coast.pint.to_base_units().pint.units})')\n",
    "\n",
    "#     lap_indices = get_lap_indices(df, start_lap_num, end_lap_num)\n",
    "#     energy_units = 'kilowatthours'\n",
    "\n",
    "#     for lap_num in range(start_lap_num, end_lap_num+1):\n",
    "#         start_lap_index, end_lap_index = lap_indices[lap_num]\n",
    "\n",
    "#         valid_lap_times = slice_into_df(df[COL_TIME], start_lap_index, end_lap_index)\n",
    "#         zeroed_lap_times = reset_lap_times(valid_lap_times)\n",
    "\n",
    "#         lap_cum_KE = slice_into_df(cumulative_ke_change_during_coast, start_lap_index, end_lap_index)\n",
    "#         # valid_car_distance = slice_into_df(df['Distance on GPS Speed'], start_lap_index, end_lap_index)\n",
    "#         # reset_distances = valid_car_distance - valid_car_distance.iloc[0]\n",
    "#         plt.plot(zeroed_lap_times, lap_cum_KE.pint.to(energy_units), label=f'Lap {lap_num}')\n",
    "#         # plot_data(zeroed_lap_times, f'Time ({UNITS[\"Time\"]})', reset_distances.pint.to('miles'), f'Vehicle Speed ({valid_car_distance.pint.to(\"miles\").pint.units})')\n",
    "\n",
    "#     plt.xlabel(f'Time ({UNITS[COL_TIME]})')\n",
    "#     plt.ylabel(f'Change in Kinetic Energy ({lap_cum_KE.pint.to(energy_units).pint.units})')\n",
    "#     plt.legend()\n",
    "#     plt.title(f'Cumulative Change in Kinetic Energy During Braking')\n",
    "#     save_plot(data_filepath)\n",
    "#     plt.show()\n",
    "\n",
    "\n",
    "# def determine_regen_for_all_data():\n",
    "#     data_files = get_data_files()\n",
    "\n",
    "#     for data_filepath in data_files:\n",
    "#         print(data_filepath)\n",
    "#         UNITS: dict[str, str] = {}\n",
    "#         race_data_df = load_race(race_data_filepath=data_filepath, units=UNITS)\n",
    "\n",
    "#         regen_calculations(race_data_df, data_filepath)\n",
    "\n",
    "# determine_regen_for_all_data()\n",
    "# # regen_calculations(RACE_DATA_DF, RACE_DATA_FILEPATH)"
   ]
  },
  {
   "cell_type": "code",
   "execution_count": null,
   "metadata": {},
   "outputs": [],
   "source": [
    "start_lap_num = 2\n",
    "end_lap_num = (RACE_DATA_DF['Lap Number'].iloc[-1] - 1).magnitude\n",
    "\n",
    "# export_data_to_csv(RACE_DATA_DF['Time'], RACE_DATA_DF['Acceleration'], 'logs/accel_actually_og.csv')\n",
    "\n",
    "cumulative_ke_change = pd.Series(data=RACE_DATA_DF.groupby('Lap Number')['Delta KE'].apply(lambda x: x.cumsum()))\n",
    "\n",
    "cumulative_ke_change_during_coast = pd.Series(data=(\n",
    "    RACE_DATA_DF.groupby('Lap Number')[['Lap Number', 'Delta KE', 'GPS CST On']].apply(\n",
    "        lambda x: (x['Delta KE'] * x['GPS CST On']).cumsum())))\n",
    "\n",
    "abs_cumulative_ke_change_during_coast = pd.Series(data=(\n",
    "    RACE_DATA_DF.groupby('Lap Number')[['Lap Number', 'Delta KE', 'GPS CST On']].apply(\n",
    "        lambda x: (abs(x['Delta KE']) * x['GPS CST On']).cumsum())))\n",
    "\n",
    "# cumulative_ke_change_during_coast = pd.Series(data=(RACE_DATA_DF * RACE_DATA_DF['GPS CST On']).groupby('Lap Number')['Delta KE'].apply(lambda x: x.cumsum()))\n",
    "# cumulative_ke_change_during_coast = pd.Series(data=strip_df_of_units(RACE_DATA_DF.groupby('Lap Number')['Delta KE']).cumsum(), dtype=f'pint[{UNITS[\"Delta KE\"]}]')\n",
    "\n",
    "plt.title(f'Cumulative Change in Kinetic Energy by Lap')\n",
    "plot_data(RACE_DATA_DF[COL_TIME], f'Time ({UNITS[COL_TIME]})', abs_cumulative_ke_change_during_coast.pint.to_base_units(), f'Cumulative Change in Kinetic Energy ({abs_cumulative_ke_change_during_coast.pint.to_base_units().pint.units})')\n",
    "\n",
    "lap_indices = get_lap_indices(RACE_DATA_DF, start_lap_num, end_lap_num)\n",
    "\n",
    "for lap_num in range(int(start_lap_num), int(end_lap_num)+1):\n",
    "    start_lap_index, end_lap_index = lap_indices[lap_num]\n",
    "    # end_lap_indices = lap_indices[lap_num]\n",
    "\n",
    "    valid_lap_times = slice_into_df(RACE_DATA_DF[COL_TIME], start_lap_index, end_lap_index)\n",
    "    lap_cum_KE = slice_into_df(abs_cumulative_ke_change_during_coast, start_lap_index, end_lap_index)\n",
    "\n",
    "    plt.title(f'Cumulative Change in Kinetic Energy for Lap {lap_num}')\n",
    "    plot_data(valid_lap_times, f'Time ({UNITS[COL_TIME]})', lap_cum_KE.pint.to_base_units(), f'Cumulative Change in Kinetic Energy ({lap_cum_KE.pint.to_base_units().pint.units})')"
   ]
  },
  {
   "cell_type": "code",
   "execution_count": null,
   "metadata": {},
   "outputs": [],
   "source": [
    "#### VEHICLE SPEED FOR EACH LAP VS. TIME ####\n",
    "# start_lap_num = 2\n",
    "# end_lap_num = int((RACE_DATA_DF['Lap Number'].iloc[-1] - 1).magnitude)\n",
    "\n",
    "# lap_indices = get_lap_indices(RACE_DATA_DF, start_lap_num, end_lap_num)\n",
    "\n",
    "# for lap_num in range(start_lap_num, end_lap_num+1):\n",
    "#     start_lap_index, end_lap_index = lap_indices[lap_num]\n",
    "\n",
    "#     valid_lap_times = slice_into_df(RACE_DATA_DF['Time'], start_lap_index, end_lap_index)\n",
    "#     zeroed_lap_times = np.linspace(0, valid_lap_times.iloc[-1] - valid_lap_times.iloc[0], len(valid_lap_times))\n",
    "#     valid_car_speeds = slice_into_df(RACE_DATA_DF['GPS Speed'], start_lap_index, end_lap_index)\n",
    "#     plt.plot(zeroed_lap_times, valid_car_speeds.pint.to('mph'), label=f'Lap {lap_num}')\n",
    "#     # plot_data(zeroed_lap_times, f'Time ({UNITS[\"Time\"]})', valid_car_speeds.pint.to('mph'), f'Vehicle Speed ({valid_car_speeds.pint.to(\"mph\").pint.units})')\n",
    "\n",
    "# plt.xlabel(f'Time ({UNITS[\"Time\"]})')\n",
    "# plt.ylabel(f'Vehicle Speed ({valid_car_speeds.pint.to(\"mph\").pint.units})')\n",
    "# plt.legend()\n",
    "# plt.title(f'Vehicle Speed for Each Lap')\n",
    "# plt.show()\n",
    "#############################################\n",
    "\n",
    "\n",
    "#### VEHICLE SPEED FOR EACH LAP VS. DISTANCE ####\n",
    "start_lap_num = 2\n",
    "end_lap_num = int((RACE_DATA_DF['Lap Number'].iloc[-1] - 1).magnitude)\n",
    "\n",
    "lap_indices = get_lap_indices(RACE_DATA_DF, start_lap_num, end_lap_num)\n",
    "\n",
    "for lap_num in range(start_lap_num, end_lap_num + 1):\n",
    "    start_lap_index, end_lap_index = lap_indices[lap_num]\n",
    "\n",
    "    valid_car_distance = slice_into_df(RACE_DATA_DF['Distance on GPS Speed'], start_lap_index, end_lap_index)\n",
    "    reset_distances = valid_car_distance - valid_car_distance.iloc[0]\n",
    "    valid_car_speeds = slice_into_df(RACE_DATA_DF['GPS Speed'], start_lap_index, end_lap_index)\n",
    "    plt.plot(reset_distances.pint.to('miles'), valid_car_speeds.pint.to('mph'), label=f'Lap {lap_num}')\n",
    "\n",
    "plt.xlabel(f'Distance Traveled ({reset_distances.pint.to(\"miles\").pint.units})')\n",
    "plt.ylabel(f'Vehicle Speed ({valid_car_speeds.pint.to(\"mph\").pint.units})')\n",
    "plt.legend()\n",
    "plt.title(f'Vehicle Speed at Specific Point for Each Lap')\n",
    "save_plot(data_file=RACE_DATA_FILEPATH)\n",
    "plt.show()\n",
    "#################################################\n",
    "\n",
    "\n",
    "start_lap_num = 2\n",
    "end_lap_num = int((RACE_DATA_DF['Lap Number'].iloc[-1] - 1).magnitude)\n",
    "\n",
    "lap_indices = get_lap_indices(RACE_DATA_DF, start_lap_num, end_lap_num)\n",
    "\n",
    "for lap_num in range(start_lap_num, end_lap_num+1):\n",
    "    start_lap_index, end_lap_index = lap_indices[lap_num]\n",
    "\n",
    "    valid_lap_times = slice_into_df(RACE_DATA_DF['Time'], start_lap_index, end_lap_index)\n",
    "    zeroed_lap_times = np.linspace(0, valid_lap_times.iloc[-1] - valid_lap_times.iloc[0], len(valid_lap_times))\n",
    "    valid_car_distance = slice_into_df(RACE_DATA_DF['Distance on GPS Speed'], start_lap_index, end_lap_index)\n",
    "    reset_distances = valid_car_distance - valid_car_distance.iloc[0]\n",
    "    plt.plot(zeroed_lap_times, reset_distances.pint.to('miles'), label=f'Lap {lap_num}')\n",
    "    # plot_data(zeroed_lap_times, f'Time ({UNITS[\"Time\"]})', reset_distances.pint.to('miles'), f'Vehicle Speed ({valid_car_distance.pint.to(\"miles\").pint.units})')\n",
    "\n",
    "plt.legend()\n",
    "plt.xlabel(f'Time ({UNITS[\"Time\"]})')\n",
    "plt.ylabel(f'Distance Traveled ({reset_distances.pint.to(\"miles\").pint.units})')\n",
    "plt.title(f'Distance Traveled for Each Lap')\n",
    "plt.show()"
   ]
  },
  {
   "cell_type": "code",
   "execution_count": null,
   "metadata": {},
   "outputs": [],
   "source": [
    "start_lap_num = 2\n",
    "end_lap_num = int((RACE_DATA_DF['Lap Number'].iloc[-1] - 1).magnitude)\n",
    "\n",
    "lap_indices = get_lap_indices(RACE_DATA_DF, start_lap_num, end_lap_num)\n",
    "\n",
    "for lap_num in range(start_lap_num, end_lap_num+1):\n",
    "    start_lap_index, end_lap_index = lap_indices[lap_num]\n",
    "\n",
    "    valid_lap_times = slice_into_df(RACE_DATA_DF['Time'], start_lap_index, end_lap_index)\n",
    "    zeroed_lap_times = np.linspace(0, valid_lap_times.iloc[-1] - valid_lap_times.iloc[0], len(valid_lap_times))\n",
    "    valid_car_distance = slice_into_df(RACE_DATA_DF['Distance on GPS Speed'], start_lap_index, end_lap_index)\n",
    "    reset_distances = valid_car_distance - valid_car_distance.iloc[0]\n",
    "    plt.plot(zeroed_lap_times, reset_distances.pint.to('miles'), label=f'Lap {lap_num}')\n",
    "    # plot_data(zeroed_lap_times, f'Time ({UNITS[\"Time\"]})', reset_distances.pint.to('miles'), f'Vehicle Speed ({valid_car_distance.pint.to(\"miles\").pint.units})')\n",
    "\n",
    "plt.legend()\n",
    "plt.xlabel(f'Time ({UNITS[COL_TIME]})')\n",
    "plt.ylabel(f'Distance Traveled ({reset_distances.pint.to(\"miles\").pint.units})')\n",
    "plt.title(f'Distance Traveled for Each Lap')\n",
    "plt.show()"
   ]
  },
  {
   "cell_type": "markdown",
   "metadata": {},
   "source": [
    "## Maps"
   ]
  },
  {
   "cell_type": "code",
   "execution_count": null,
   "metadata": {},
   "outputs": [],
   "source": [
    "from race_analysis.map_data import plot_map_every_lap"
   ]
  },
  {
   "cell_type": "markdown",
   "metadata": {},
   "source": [
    "### Plot GPS Speed"
   ]
  },
  {
   "cell_type": "code",
   "execution_count": null,
   "metadata": {},
   "outputs": [],
   "source": [
    "def plot_GPS_Speed(\n",
    "        df: pd.DataFrame,\n",
    "        data_filepath: Optional[str] = None,\n",
    "        save_plots: bool = True,\n",
    "        show_plots: bool = False,\n",
    "    ) -> None:\n",
    "    save_or_show_plot(save_plots=save_plots, show_plots=show_plots)\n",
    "\n",
    "    data_name = 'GPS Speed'\n",
    "    plot_units = 'mph'\n",
    "    colorbar_label = f'Velocity [{plot_units}]'\n",
    "    data_filepath = data_filepath if data_filepath is not None else RACE_DATA_FILEPATH\n",
    "\n",
    "    plot_map_every_lap(\n",
    "        df=df,\n",
    "        data_to_plot=df[data_name],\n",
    "        data_units=plot_units,\n",
    "        colorbar_label=colorbar_label,\n",
    "        data_filepath=data_filepath,\n",
    "        save_plots=save_plots,\n",
    "        show_plots=show_plots,\n",
    "    )\n",
    "\n",
    "    if save_plots:\n",
    "        save_plot(data_filepath)\n",
    "\n",
    "# plot_GPS_Speed(df=RACE_DATA_DF)"
   ]
  },
  {
   "cell_type": "code",
   "execution_count": null,
   "metadata": {},
   "outputs": [],
   "source": [
    "def plot_GPS_G_Sum(\n",
    "        df: pd.DataFrame,\n",
    "        data_filepath: Optional[str] = None,\n",
    "        save_plots: bool = True,\n",
    "        show_plots: bool = False,\n",
    "    ) -> None:\n",
    "    save_or_show_plot(save_plots=save_plots, show_plots=show_plots)\n",
    "\n",
    "    data_name = 'GPS G Sum'\n",
    "    data_filepath = data_filepath if data_filepath is not None else RACE_DATA_FILEPATH\n",
    "\n",
    "    plot_map_every_lap(\n",
    "        df=df,\n",
    "        data_to_plot=df[data_name],\n",
    "        data_units=(u.m/(u.s**2)),\n",
    "        colorbar_label='Acceleration (m/s^2)',\n",
    "        data_filepath=data_filepath,\n",
    "        save_plots=save_plots,\n",
    "        show_plots=show_plots,\n",
    "    )\n",
    "    save_plot(data_filepath)\n",
    "\n",
    "# plot_GPS_G_Sum(df=RACE_DATA_DF)"
   ]
  },
  {
   "cell_type": "code",
   "execution_count": null,
   "metadata": {},
   "outputs": [],
   "source": [
    "def plot_Acceleration(\n",
    "        df: pd.DataFrame,\n",
    "        data_filepath: Optional[str] = None,\n",
    "        save_plots: bool = True,\n",
    "        show_plots: bool = False,\n",
    "    ) -> None:\n",
    "    save_or_show_plot(save_plots=save_plots, show_plots=show_plots)\n",
    "\n",
    "    data_name = 'Acceleration'\n",
    "    colorbar_label = 'Acceleration [m/(s^2)]'\n",
    "    data_filepath = data_filepath if data_filepath is not None else RACE_DATA_FILEPATH\n",
    "\n",
    "    plot_map_every_lap(\n",
    "        df=df,\n",
    "        data_to_plot=df[data_name],\n",
    "        data_units=(u.m/(u.s**2)),\n",
    "        colorbar_label=colorbar_label,\n",
    "        data_filepath=data_filepath,\n",
    "        save_plots=save_plots,\n",
    "        show_plots=show_plots,\n",
    "    )\n",
    "\n",
    "# plot_Acceleration(df=RACE_DATA_DF)"
   ]
  },
  {
   "cell_type": "code",
   "execution_count": null,
   "metadata": {},
   "outputs": [],
   "source": [
    "def plot_column_for_all_tracks(\n",
    "        column_name: str,\n",
    "        save_plots: bool = True,\n",
    "        show_plots: bool = False,\n",
    "    ) -> None:\n",
    "    save_or_show_plot(save_plots=save_plots, show_plots=show_plots)\n",
    "\n",
    "    data_files = get_data_files()\n",
    "\n",
    "    for data_filepath in data_files:\n",
    "        UNITS: dict[str, str] = {}\n",
    "        race_data_df = load_race(race_data_filepath=data_filepath, units=UNITS)\n",
    "        plot_map_every_lap(\n",
    "            df=race_data_df,\n",
    "            data_to_plot=race_data_df[column_name],\n",
    "            colorbar_label=f'{race_data_df[column_name].pint.units}',\n",
    "            data_filepath=data_filepath,\n",
    "            save_plots=save_plots,\n",
    "            show_plots=show_plots,\n",
    "        )\n",
    "\n",
    "# plot_column_for_all_tracks(df=RACE_DATA_DF, column_name='GPS Speed')"
   ]
  },
  {
   "cell_type": "code",
   "execution_count": null,
   "metadata": {},
   "outputs": [],
   "source": [
    "def plot_all_columns(\n",
    "        df: pd.DataFrame,\n",
    "        data_filepath: Optional[str] = None,\n",
    "        save_plots: bool = True,\n",
    "        show_plots: bool = False,\n",
    "    ) -> None:\n",
    "    save_or_show_plot(save_plots=save_plots, show_plots=show_plots)\n",
    "\n",
    "    data_filepath = data_filepath if data_filepath is not None else RACE_DATA_FILEPATH\n",
    "\n",
    "    for data_column in df.columns:\n",
    "        try:\n",
    "            print(f'\\tPLOTTING COLUMN:      \\t{data_column}')\n",
    "            data_units = df[data_column].pint.units\n",
    "            plot_map_every_lap(\n",
    "                df=df,\n",
    "                data_to_plot=df[data_column],\n",
    "                data_units=data_units,\n",
    "                colorbar_label=f'{str(df[data_column].pint.dimensionality).capitalize()} ({data_units})',\n",
    "                data_filepath=data_filepath,\n",
    "                save_plots=save_plots,\n",
    "                show_plots=show_plots,\n",
    "            )\n",
    "        except:\n",
    "            print(f'\\tFAILED TO PLOT COLUMN:\\t{data_column}')\n",
    "\n",
    "# plot_all_columns(df=RACE_DATA_DF)"
   ]
  },
  {
   "cell_type": "code",
   "execution_count": null,
   "metadata": {},
   "outputs": [],
   "source": [
    "def plot_all_columns_for_all_tracks(\n",
    "        save_plots: bool = True,\n",
    "        show_plots: bool = False,\n",
    "    ) -> None:\n",
    "    save_or_show_plot(save_plots=save_plots, show_plots=show_plots)\n",
    "\n",
    "    data_files = get_data_files()\n",
    "\n",
    "    for data_filepath in data_files:\n",
    "        print(f'PLOTTING\\t{get_filename(data_filepath)}')\n",
    "        UNITS = {}\n",
    "        race_data_df = load_race(race_data_filepath=data_filepath, units=UNITS)\n",
    "        plot_all_columns(\n",
    "            df=race_data_df,\n",
    "            data_filepath=data_filepath,\n",
    "            save_plots=save_plots,\n",
    "            show_plots=show_plots,\n",
    "        )\n",
    "\n",
    "plot_all_columns_for_all_tracks()"
   ]
  }
 ],
 "metadata": {
  "kernelspec": {
   "display_name": "Python 3",
   "language": "python",
   "name": "python3"
  },
  "language_info": {
   "codemirror_mode": {
    "name": "ipython",
    "version": 3
   },
   "file_extension": ".py",
   "mimetype": "text/x-python",
   "name": "python",
   "nbconvert_exporter": "python",
   "pygments_lexer": "ipython3",
   "version": "3.12.3"
  }
 },
 "nbformat": 4,
 "nbformat_minor": 2
}

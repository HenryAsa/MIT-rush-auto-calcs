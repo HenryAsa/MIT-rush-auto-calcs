{
 "cells": [
  {
   "cell_type": "markdown",
   "metadata": {},
   "source": [
    "# Preliminary RUSH Auto Energy Calculations and Battery Sizing\n",
    "\n",
    "## Initial Configuration"
   ]
  },
  {
   "cell_type": "code",
   "execution_count": 1,
   "metadata": {},
   "outputs": [],
   "source": [
    "import pint\n",
    "import pandas as pd\n",
    "import numpy as np\n",
    "import matplotlib.pyplot as plt\n",
    "from scipy import integrate\n",
    "\n",
    "u = pint.UnitRegistry()\n",
    "Q_ = u.Quantity\n",
    "u.define('percent = pct = dimensionless / 100')\n",
    "u.define('gear = dimensionless')"
   ]
  },
  {
   "cell_type": "markdown",
   "metadata": {},
   "source": [
    "# Assumptions"
   ]
  },
  {
   "cell_type": "code",
   "execution_count": 2,
   "metadata": {},
   "outputs": [
    {
     "name": "stdout",
     "output_type": "stream",
     "text": [
      "7.450666666666668 meter / second ** 2\n"
     ]
    }
   ],
   "source": [
    "def acceleration_from_0_n(starting_speed, ending_speed, time):\n",
    "    acceleration = (ending_speed - starting_speed) / time\n",
    "    return acceleration.to(u.m / (u.s**2))\n",
    "\n",
    "start_speed = 0 * u.mph\n",
    "end_speed = 60 * u.mph\n",
    "time_0_to_60 = 3.6 * u.s\n",
    "\n",
    "print(acceleration_from_0_n(start_speed, end_speed, time_0_to_60))"
   ]
  },
  {
   "cell_type": "code",
   "execution_count": 3,
   "metadata": {},
   "outputs": [],
   "source": [
    "## SPECS OF RUSH CAR ##\n",
    "dry_vehicle_mass = 935 * u.lbs\n",
    "\"\"\"Vehicle dry mass (https://rush-california.com/)\"\"\"\n",
    "\n",
    "## DENSITY OF AIR\n",
    "rho_air = 1.293 * (u.kg/(u.m**3))\n",
    "\n",
    "average_speed_per_lap = 30 * (u.m / u.s)\n",
    "distance_traveled_per_lap = 2.3 * u.mile\n",
    "time_on_battery_per_lap = 30 * u.s\n",
    "average_time_per_lap = 110 * u.s\n",
    "power_per_lap = 164 * u.kW\n",
    "# energy_per_lap = 114.14 * u.kWh\n",
    "energy_per_lap = (power_per_lap * average_time_per_lap).to(u.kWh)\n",
    "\n",
    "energy_on_battery = energy_per_lap * (time_on_battery_per_lap / average_time_per_lap)\n",
    "motor_efficiency = 0.9"
   ]
  }
 ],
 "metadata": {
  "kernelspec": {
   "display_name": ".venv",
   "language": "python",
   "name": "python3"
  },
  "language_info": {
   "codemirror_mode": {
    "name": "ipython",
    "version": 3
   },
   "file_extension": ".py",
   "mimetype": "text/x-python",
   "name": "python",
   "nbconvert_exporter": "python",
   "pygments_lexer": "ipython3",
   "version": "3.11.8"
  }
 },
 "nbformat": 4,
 "nbformat_minor": 2
}
